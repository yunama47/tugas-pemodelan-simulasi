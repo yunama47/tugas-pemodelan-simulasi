{
 "cells": [
  {
   "cell_type": "code",
   "execution_count": 3,
   "metadata": {
    "collapsed": true,
    "ExecuteTime": {
     "end_time": "2023-09-18T07:17:25.523040700Z",
     "start_time": "2023-09-18T07:17:25.382854800Z"
    }
   },
   "outputs": [
    {
     "data": {
      "text/plain": "count    120.000000\nmean       0.558333\nstd        0.941979\nmin        0.000000\n25%        0.000000\n50%        0.000000\n75%        1.000000\nmax        4.000000\nName: Jumlah Pengunjung, dtype: float64"
     },
     "execution_count": 3,
     "metadata": {},
     "output_type": "execute_result"
    }
   ],
   "source": [
    "import pandas as pd\n",
    "\n",
    "data_excel = pd.read_excel('./Data Kunjungan Mahasiswa ke Perpustakaan Undiksha.xlsx'\n",
    "                           ,sheet_name='Dasbor')\n",
    "data_excel.fillna(0,inplace=True)\n",
    "data_excel[\"Jumlah Pengunjung\"].describe()"
   ]
  },
  {
   "cell_type": "code",
   "execution_count": 4,
   "outputs": [
    {
     "name": "stdout",
     "output_type": "stream",
     "text": [
      "Histogram persebaran jumlah pengunjung per menit\n"
     ]
    },
    {
     "data": {
      "text/plain": "<Axes: >"
     },
     "execution_count": 4,
     "metadata": {},
     "output_type": "execute_result"
    },
    {
     "data": {
      "text/plain": "<Figure size 640x480 with 1 Axes>",
      "image/png": "[encoded data removed]"
     },
     "metadata": {},
     "output_type": "display_data"
    }
   ],
   "source": [
    "print(\"Histogram persebaran jumlah pengunjung per menit\")\n",
    "data_excel[\"Jumlah Pengunjung\"].hist()"
   ],
   "metadata": {
    "collapsed": false,
    "ExecuteTime": {
     "end_time": "2023-09-18T07:17:27.823272700Z",
     "start_time": "2023-09-18T07:17:25.527083900Z"
    }
   }
  },
  {
   "cell_type": "code",
   "execution_count": 10,
   "outputs": [
    {
     "data": {
      "text/plain": "     Jumlah Pengunjung  probability\n0.0                 80     0.666667\n1.0                 22     0.183333\n2.0                 11     0.091667\n3.0                  5     0.041667\n4.0                  2     0.016667",
      "text/html": "<div>\n<style scoped>\n    .dataframe tbody tr th:only-of-type {\n        vertical-align: middle;\n    }\n\n    .dataframe tbody tr th {\n        vertical-align: top;\n    }\n\n    .dataframe thead th {\n        text-align: right;\n    }\n</style>\n<table border=\"1\" class=\"dataframe\">\n  <thead>\n    <tr style=\"text-align: right;\">\n      <th></th>\n      <th>Jumlah Pengunjung</th>\n      <th>probability</th>\n    </tr>\n  </thead>\n  <tbody>\n    <tr>\n      <th>0.0</th>\n      <td>80</td>\n      <td>0.666667</td>\n    </tr>\n    <tr>\n      <th>1.0</th>\n      <td>22</td>\n      <td>0.183333</td>\n    </tr>\n    <tr>\n      <th>2.0</th>\n      <td>11</td>\n      <td>0.091667</td>\n    </tr>\n    <tr>\n      <th>3.0</th>\n      <td>5</td>\n      <td>0.041667</td>\n    </tr>\n    <tr>\n      <th>4.0</th>\n      <td>2</td>\n      <td>0.016667</td>\n    </tr>\n  </tbody>\n</table>\n</div>"
     },
     "execution_count": 10,
     "metadata": {},
     "output_type": "execute_result"
    }
   ],
   "source": [
    "val_counts = pd.DataFrame(data_excel[\"Jumlah Pengunjung\"].value_counts())\n",
    "val_counts['probability'] = [c/val_counts[\"Jumlah Pengunjung\"].sum()\n",
    "                             for c in val_counts[\"Jumlah Pengunjung\"]]\n",
    "val_counts"
   ],
   "metadata": {
    "collapsed": false,
    "ExecuteTime": {
     "end_time": "2023-09-18T07:20:01.594838400Z",
     "start_time": "2023-09-18T07:20:01.553758800Z"
    }
   }
  },
  {
   "cell_type": "markdown",
   "source": [
    "# Simulasi lempar dadu"
   ],
   "metadata": {
    "collapsed": false
   }
  },
  {
   "cell_type": "code",
   "execution_count": 121,
   "outputs": [
    {
     "data": {
      "text/plain": "         random_1      dadu_1    random_2      dadu_2    random_3      dadu_3\ncount  100.000000  100.000000  100.000000  100.000000  100.000000  100.000000\nmean     0.426724    3.060000    0.500709    3.480000    0.488941    3.430000\nstd      0.289871    1.739732    0.312584    1.855813    0.302727    1.736448\nmin      0.005805    1.000000    0.005390    1.000000    0.003177    1.000000\n25%      0.168357    1.750000    0.206928    2.000000    0.214388    2.000000\n50%      0.387586    3.000000    0.476782    3.000000    0.503315    4.000000\n75%      0.669070    5.000000    0.772383    5.000000    0.710189    5.000000\nmax      0.994686    6.000000    0.995829    6.000000    0.993816    6.000000",
      "text/html": "<div>\n<style scoped>\n    .dataframe tbody tr th:only-of-type {\n        vertical-align: middle;\n    }\n\n    .dataframe tbody tr th {\n        vertical-align: top;\n    }\n\n    .dataframe thead th {\n        text-align: right;\n    }\n</style>\n<table border=\"1\" class=\"dataframe\">\n  <thead>\n    <tr style=\"text-align: right;\">\n      <th></th>\n      <th>random_1</th>\n      <th>dadu_1</th>\n      <th>random_2</th>\n      <th>dadu_2</th>\n      <th>random_3</th>\n      <th>dadu_3</th>\n    </tr>\n  </thead>\n  <tbody>\n    <tr>\n      <th>count</th>\n      <td>100.000000</td>\n      <td>100.000000</td>\n      <td>100.000000</td>\n      <td>100.000000</td>\n      <td>100.000000</td>\n      <td>100.000000</td>\n    </tr>\n    <tr>\n      <th>mean</th>\n      <td>0.426724</td>\n      <td>3.060000</td>\n      <td>0.500709</td>\n      <td>3.480000</td>\n      <td>0.488941</td>\n      <td>3.430000</td>\n    </tr>\n    <tr>\n      <th>std</th>\n      <td>0.289871</td>\n      <td>1.739732</td>\n      <td>0.312584</td>\n      <td>1.855813</td>\n      <td>0.302727</td>\n      <td>1.736448</td>\n    </tr>\n    <tr>\n      <th>min</th>\n      <td>0.005805</td>\n      <td>1.000000</td>\n      <td>0.005390</td>\n      <td>1.000000</td>\n      <td>0.003177</td>\n      <td>1.000000</td>\n    </tr>\n    <tr>\n      <th>25%</th>\n      <td>0.168357</td>\n      <td>1.750000</td>\n      <td>0.206928</td>\n      <td>2.000000</td>\n      <td>0.214388</td>\n      <td>2.000000</td>\n    </tr>\n    <tr>\n      <th>50%</th>\n      <td>0.387586</td>\n      <td>3.000000</td>\n      <td>0.476782</td>\n      <td>3.000000</td>\n      <td>0.503315</td>\n      <td>4.000000</td>\n    </tr>\n    <tr>\n      <th>75%</th>\n      <td>0.669070</td>\n      <td>5.000000</td>\n      <td>0.772383</td>\n      <td>5.000000</td>\n      <td>0.710189</td>\n      <td>5.000000</td>\n    </tr>\n    <tr>\n      <th>max</th>\n      <td>0.994686</td>\n      <td>6.000000</td>\n      <td>0.995829</td>\n      <td>6.000000</td>\n      <td>0.993816</td>\n      <td>6.000000</td>\n    </tr>\n  </tbody>\n</table>\n</div>"
     },
     "execution_count": 121,
     "metadata": {},
     "output_type": "execute_result"
    }
   ],
   "source": [
    "import random\n",
    "\n",
    "N_lempar = 100\n",
    "N_dadu = 3\n",
    "df = []\n",
    "for i in range(N_lempar):\n",
    "    row = {}\n",
    "    for j in range(N_dadu):\n",
    "        row[f'random_{j+1}'] = rand = random.random()\n",
    "        row[f'dadu_{j+1}'] = dadu = rand*6 //1 + 1\n",
    "    df.append(row)\n",
    "\n",
    "lemparan_dadu = pd.DataFrame(df)\n",
    "lemparan_dadu.describe()"
   ],
   "metadata": {
    "collapsed": false,
    "ExecuteTime": {
     "end_time": "2023-09-18T08:02:23.422205800Z",
     "start_time": "2023-09-18T08:02:23.356871Z"
    }
   }
  },
  {
   "cell_type": "code",
   "execution_count": 122,
   "outputs": [
    {
     "data": {
      "text/plain": "       pasang_dadu_1  pasang_dadu_2  pasang_dadu_3  pasang_dadu_4  \\\ncount     100.000000     100.000000     100.000000     100.000000   \nmean       11.010000       5.910000       3.620000       3.160000   \nstd         5.774369       2.916671       1.905759       1.502321   \nmin         1.000000       1.000000       1.000000       1.000000   \n25%         6.000000       3.000000       2.000000       2.000000   \n50%        11.000000       6.000000       4.000000       3.000000   \n75%        16.000000       8.000000       5.000000       5.000000   \nmax        20.000000      10.000000       7.000000       5.000000   \n\n       pasang_dadu_5  pasang_dadu_6  \ncount     100.000000     100.000000  \nmean        2.550000       2.190000  \nstd         1.183856       1.011999  \nmin         1.000000       1.000000  \n25%         1.000000       1.000000  \n50%         3.000000       2.000000  \n75%         4.000000       3.000000  \nmax         4.000000       4.000000  ",
      "text/html": "<div>\n<style scoped>\n    .dataframe tbody tr th:only-of-type {\n        vertical-align: middle;\n    }\n\n    .dataframe tbody tr th {\n        vertical-align: top;\n    }\n\n    .dataframe thead th {\n        text-align: right;\n    }\n</style>\n<table border=\"1\" class=\"dataframe\">\n  <thead>\n    <tr style=\"text-align: right;\">\n      <th></th>\n      <th>pasang_dadu_1</th>\n      <th>pasang_dadu_2</th>\n      <th>pasang_dadu_3</th>\n      <th>pasang_dadu_4</th>\n      <th>pasang_dadu_5</th>\n      <th>pasang_dadu_6</th>\n    </tr>\n  </thead>\n  <tbody>\n    <tr>\n      <th>count</th>\n      <td>100.000000</td>\n      <td>100.000000</td>\n      <td>100.000000</td>\n      <td>100.000000</td>\n      <td>100.000000</td>\n      <td>100.000000</td>\n    </tr>\n    <tr>\n      <th>mean</th>\n      <td>11.010000</td>\n      <td>5.910000</td>\n      <td>3.620000</td>\n      <td>3.160000</td>\n      <td>2.550000</td>\n      <td>2.190000</td>\n    </tr>\n    <tr>\n      <th>std</th>\n      <td>5.774369</td>\n      <td>2.916671</td>\n      <td>1.905759</td>\n      <td>1.502321</td>\n      <td>1.183856</td>\n      <td>1.011999</td>\n    </tr>\n    <tr>\n      <th>min</th>\n      <td>1.000000</td>\n      <td>1.000000</td>\n      <td>1.000000</td>\n      <td>1.000000</td>\n      <td>1.000000</td>\n      <td>1.000000</td>\n    </tr>\n    <tr>\n      <th>25%</th>\n      <td>6.000000</td>\n      <td>3.000000</td>\n      <td>2.000000</td>\n      <td>2.000000</td>\n      <td>1.000000</td>\n      <td>1.000000</td>\n    </tr>\n    <tr>\n      <th>50%</th>\n      <td>11.000000</td>\n      <td>6.000000</td>\n      <td>4.000000</td>\n      <td>3.000000</td>\n      <td>3.000000</td>\n      <td>2.000000</td>\n    </tr>\n    <tr>\n      <th>75%</th>\n      <td>16.000000</td>\n      <td>8.000000</td>\n      <td>5.000000</td>\n      <td>5.000000</td>\n      <td>4.000000</td>\n      <td>3.000000</td>\n    </tr>\n    <tr>\n      <th>max</th>\n      <td>20.000000</td>\n      <td>10.000000</td>\n      <td>7.000000</td>\n      <td>5.000000</td>\n      <td>4.000000</td>\n      <td>4.000000</td>\n    </tr>\n  </tbody>\n</table>\n</div>"
     },
     "execution_count": 122,
     "metadata": {},
     "output_type": "execute_result"
    }
   ],
   "source": [
    "df = []\n",
    "for i in range(N_lempar):\n",
    "    row = {}\n",
    "    for j in range(1,7):\n",
    "        rand = random.random()\n",
    "        row[f'pasang_dadu_{j}'] = rand*20 //j + 1\n",
    "    df.append(row)\n",
    "\n",
    "pasang_dadu = pd.DataFrame(df)\n",
    "pasang_dadu.describe()"
   ],
   "metadata": {
    "collapsed": false,
    "ExecuteTime": {
     "end_time": "2023-09-18T08:21:22.870215Z",
     "start_time": "2023-09-18T08:21:22.789366Z"
    }
   }
  }
 ],
 "metadata": {
  "kernelspec": {
   "display_name": "Python 3",
   "language": "python",
   "name": "python3"
  },
  "language_info": {
   "codemirror_mode": {
    "name": "ipython",
    "version": 2
   },
   "file_extension": ".py",
   "mimetype": "text/x-python",
   "name": "python",
   "nbconvert_exporter": "python",
   "pygments_lexer": "ipython2",
   "version": "2.7.6"
  }
 },
 "nbformat": 4,
 "nbformat_minor": 0
}
