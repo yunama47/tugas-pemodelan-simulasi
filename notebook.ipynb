{
 "cells": [
  {
   "cell_type": "code",
   "execution_count": 3,
   "metadata": {
    "ExecuteTime": {
     "end_time": "2023-09-18T07:17:25.523040700Z",
     "start_time": "2023-09-18T07:17:25.382854800Z"
    },
    "collapsed": true
   },
   "outputs": [
    {
     "data": {
      "text/plain": [
       "count    120.000000\n",
       "mean       0.558333\n",
       "std        0.941979\n",
       "min        0.000000\n",
       "25%        0.000000\n",
       "50%        0.000000\n",
       "75%        1.000000\n",
       "max        4.000000\n",
       "Name: Jumlah Pengunjung, dtype: float64"
      ]
     },
     "execution_count": 3,
     "metadata": {},
     "output_type": "execute_result"
    }
   ],
   "source": [
    "import numpy as np\n",
    "import pandas as pd\n",
    "\n",
    "data_excel = pd.read_excel('./Data Kunjungan Mahasiswa ke Perpustakaan Undiksha.xlsx'\n",
    "                           ,sheet_name='Dasbor')\n",
    "data_excel.fillna(0,inplace=True)\n",
    "data_excel[\"Jumlah Pengunjung\"].describe()"
   ]
  },
  {
   "cell_type": "code",
   "execution_count": 4,
   "metadata": {
    "ExecuteTime": {
     "end_time": "2023-09-18T07:17:27.823272700Z",
     "start_time": "2023-09-18T07:17:25.527083900Z"
    },
    "collapsed": false
   },
   "outputs": [
    {
     "name": "stdout",
     "output_type": "stream",
     "text": [
      "Histogram persebaran jumlah pengunjung per menit\n"
     ]
    },
    {
     "data": {
      "text/plain": [
       "<Axes: >"
      ]
     },
     "execution_count": 4,
     "metadata": {},
     "output_type": "execute_result"
    },
    {
     "data": {
      "image/png": "[encoded data removed]",
      "text/plain": [
       "<Figure size 640x480 with 1 Axes>"
      ]
     },
     "metadata": {},
     "output_type": "display_data"
    }
   ],
   "source": [
    "print(\"Histogram persebaran jumlah pengunjung per menit\")\n",
    "data_excel[\"Jumlah Pengunjung\"].hist()"
   ]
  },
  {
   "cell_type": "code",
   "execution_count": 10,
   "metadata": {
    "ExecuteTime": {
     "end_time": "2023-09-18T07:20:01.594838400Z",
     "start_time": "2023-09-18T07:20:01.553758800Z"
    },
    "collapsed": false
   },
   "outputs": [
    {
     "data": {
      "text/html": [
       "<div>\n",
       "<style scoped>\n",
       "    .dataframe tbody tr th:only-of-type {\n",
       "        vertical-align: middle;\n",
       "    }\n",
       "\n",
       "    .dataframe tbody tr th {\n",
       "        vertical-align: top;\n",
       "    }\n",
       "\n",
       "    .dataframe thead th {\n",
       "        text-align: right;\n",
       "    }\n",
       "</style>\n",
       "<table border=\"1\" class=\"dataframe\">\n",
       "  <thead>\n",
       "    <tr style=\"text-align: right;\">\n",
       "      <th></th>\n",
       "      <th>Jumlah Pengunjung</th>\n",
       "      <th>probability</th>\n",
       "    </tr>\n",
       "  </thead>\n",
       "  <tbody>\n",
       "    <tr>\n",
       "      <th>0.0</th>\n",
       "      <td>80</td>\n",
       "      <td>0.666667</td>\n",
       "    </tr>\n",
       "    <tr>\n",
       "      <th>1.0</th>\n",
       "      <td>22</td>\n",
       "      <td>0.183333</td>\n",
       "    </tr>\n",
       "    <tr>\n",
       "      <th>2.0</th>\n",
       "      <td>11</td>\n",
       "      <td>0.091667</td>\n",
       "    </tr>\n",
       "    <tr>\n",
       "      <th>3.0</th>\n",
       "      <td>5</td>\n",
       "      <td>0.041667</td>\n",
       "    </tr>\n",
       "    <tr>\n",
       "      <th>4.0</th>\n",
       "      <td>2</td>\n",
       "      <td>0.016667</td>\n",
       "    </tr>\n",
       "  </tbody>\n",
       "</table>\n",
       "</div>"
      ],
      "text/plain": [
       "     Jumlah Pengunjung  probability\n",
       "0.0                 80     0.666667\n",
       "1.0                 22     0.183333\n",
       "2.0                 11     0.091667\n",
       "3.0                  5     0.041667\n",
       "4.0                  2     0.016667"
      ]
     },
     "execution_count": 10,
     "metadata": {},
     "output_type": "execute_result"
    }
   ],
   "source": [
    "val_counts = pd.DataFrame(data_excel[\"Jumlah Pengunjung\"].value_counts())\n",
    "val_counts['probability'] = [c/val_counts[\"Jumlah Pengunjung\"].sum()\n",
    "                             for c in val_counts[\"Jumlah Pengunjung\"]]\n",
    "val_counts"
   ]
  },
  {
   "cell_type": "markdown",
   "metadata": {
    "collapsed": false
   },
   "source": [
    "# Simulasi lempar dadu"
   ]
  },
  {
   "cell_type": "code",
   "execution_count": 121,
   "metadata": {
    "ExecuteTime": {
     "end_time": "2023-09-18T08:02:23.422205800Z",
     "start_time": "2023-09-18T08:02:23.356871Z"
    },
    "collapsed": false
   },
   "outputs": [
    {
     "data": {
      "text/html": [
       "<div>\n",
       "<style scoped>\n",
       "    .dataframe tbody tr th:only-of-type {\n",
       "        vertical-align: middle;\n",
       "    }\n",
       "\n",
       "    .dataframe tbody tr th {\n",
       "        vertical-align: top;\n",
       "    }\n",
       "\n",
       "    .dataframe thead th {\n",
       "        text-align: right;\n",
       "    }\n",
       "</style>\n",
       "<table border=\"1\" class=\"dataframe\">\n",
       "  <thead>\n",
       "    <tr style=\"text-align: right;\">\n",
       "      <th></th>\n",
       "      <th>random_1</th>\n",
       "      <th>dadu_1</th>\n",
       "      <th>random_2</th>\n",
       "      <th>dadu_2</th>\n",
       "      <th>random_3</th>\n",
       "      <th>dadu_3</th>\n",
       "    </tr>\n",
       "  </thead>\n",
       "  <tbody>\n",
       "    <tr>\n",
       "      <th>count</th>\n",
       "      <td>100.000000</td>\n",
       "      <td>100.000000</td>\n",
       "      <td>100.000000</td>\n",
       "      <td>100.000000</td>\n",
       "      <td>100.000000</td>\n",
       "      <td>100.000000</td>\n",
       "    </tr>\n",
       "    <tr>\n",
       "      <th>mean</th>\n",
       "      <td>0.426724</td>\n",
       "      <td>3.060000</td>\n",
       "      <td>0.500709</td>\n",
       "      <td>3.480000</td>\n",
       "      <td>0.488941</td>\n",
       "      <td>3.430000</td>\n",
       "    </tr>\n",
       "    <tr>\n",
       "      <th>std</th>\n",
       "      <td>0.289871</td>\n",
       "      <td>1.739732</td>\n",
       "      <td>0.312584</td>\n",
       "      <td>1.855813</td>\n",
       "      <td>0.302727</td>\n",
       "      <td>1.736448</td>\n",
       "    </tr>\n",
       "    <tr>\n",
       "      <th>min</th>\n",
       "      <td>0.005805</td>\n",
       "      <td>1.000000</td>\n",
       "      <td>0.005390</td>\n",
       "      <td>1.000000</td>\n",
       "      <td>0.003177</td>\n",
       "      <td>1.000000</td>\n",
       "    </tr>\n",
       "    <tr>\n",
       "      <th>25%</th>\n",
       "      <td>0.168357</td>\n",
       "      <td>1.750000</td>\n",
       "      <td>0.206928</td>\n",
       "      <td>2.000000</td>\n",
       "      <td>0.214388</td>\n",
       "      <td>2.000000</td>\n",
       "    </tr>\n",
       "    <tr>\n",
       "      <th>50%</th>\n",
       "      <td>0.387586</td>\n",
       "      <td>3.000000</td>\n",
       "      <td>0.476782</td>\n",
       "      <td>3.000000</td>\n",
       "      <td>0.503315</td>\n",
       "      <td>4.000000</td>\n",
       "    </tr>\n",
       "    <tr>\n",
       "      <th>75%</th>\n",
       "      <td>0.669070</td>\n",
       "      <td>5.000000</td>\n",
       "      <td>0.772383</td>\n",
       "      <td>5.000000</td>\n",
       "      <td>0.710189</td>\n",
       "      <td>5.000000</td>\n",
       "    </tr>\n",
       "    <tr>\n",
       "      <th>max</th>\n",
       "      <td>0.994686</td>\n",
       "      <td>6.000000</td>\n",
       "      <td>0.995829</td>\n",
       "      <td>6.000000</td>\n",
       "      <td>0.993816</td>\n",
       "      <td>6.000000</td>\n",
       "    </tr>\n",
       "  </tbody>\n",
       "</table>\n",
       "</div>"
      ],
      "text/plain": [
       "         random_1      dadu_1    random_2      dadu_2    random_3      dadu_3\n",
       "count  100.000000  100.000000  100.000000  100.000000  100.000000  100.000000\n",
       "mean     0.426724    3.060000    0.500709    3.480000    0.488941    3.430000\n",
       "std      0.289871    1.739732    0.312584    1.855813    0.302727    1.736448\n",
       "min      0.005805    1.000000    0.005390    1.000000    0.003177    1.000000\n",
       "25%      0.168357    1.750000    0.206928    2.000000    0.214388    2.000000\n",
       "50%      0.387586    3.000000    0.476782    3.000000    0.503315    4.000000\n",
       "75%      0.669070    5.000000    0.772383    5.000000    0.710189    5.000000\n",
       "max      0.994686    6.000000    0.995829    6.000000    0.993816    6.000000"
      ]
     },
     "execution_count": 121,
     "metadata": {},
     "output_type": "execute_result"
    }
   ],
   "source": [
    "import random\n",
    "\n",
    "N_lempar = 100\n",
    "N_dadu = 3\n",
    "df = []\n",
    "for i in range(N_lempar):\n",
    "    row = {}\n",
    "    for j in range(N_dadu):\n",
    "        row[f'random_{j+1}'] = rand = random.random()\n",
    "        row[f'dadu_{j+1}'] = dadu = rand*6 //1 + 1\n",
    "    df.append(row)\n",
    "\n",
    "lemparan_dadu = pd.DataFrame(df)\n",
    "lemparan_dadu.describe()"
   ]
  },
  {
   "cell_type": "code",
   "execution_count": 122,
   "metadata": {
    "ExecuteTime": {
     "end_time": "2023-09-18T08:21:22.870215Z",
     "start_time": "2023-09-18T08:21:22.789366Z"
    },
    "collapsed": false
   },
   "outputs": [
    {
     "data": {
      "text/html": [
       "<div>\n",
       "<style scoped>\n",
       "    .dataframe tbody tr th:only-of-type {\n",
       "        vertical-align: middle;\n",
       "    }\n",
       "\n",
       "    .dataframe tbody tr th {\n",
       "        vertical-align: top;\n",
       "    }\n",
       "\n",
       "    .dataframe thead th {\n",
       "        text-align: right;\n",
       "    }\n",
       "</style>\n",
       "<table border=\"1\" class=\"dataframe\">\n",
       "  <thead>\n",
       "    <tr style=\"text-align: right;\">\n",
       "      <th></th>\n",
       "      <th>pasang_dadu_1</th>\n",
       "      <th>pasang_dadu_2</th>\n",
       "      <th>pasang_dadu_3</th>\n",
       "      <th>pasang_dadu_4</th>\n",
       "      <th>pasang_dadu_5</th>\n",
       "      <th>pasang_dadu_6</th>\n",
       "    </tr>\n",
       "  </thead>\n",
       "  <tbody>\n",
       "    <tr>\n",
       "      <th>count</th>\n",
       "      <td>100.000000</td>\n",
       "      <td>100.000000</td>\n",
       "      <td>100.000000</td>\n",
       "      <td>100.000000</td>\n",
       "      <td>100.000000</td>\n",
       "      <td>100.000000</td>\n",
       "    </tr>\n",
       "    <tr>\n",
       "      <th>mean</th>\n",
       "      <td>11.010000</td>\n",
       "      <td>5.910000</td>\n",
       "      <td>3.620000</td>\n",
       "      <td>3.160000</td>\n",
       "      <td>2.550000</td>\n",
       "      <td>2.190000</td>\n",
       "    </tr>\n",
       "    <tr>\n",
       "      <th>std</th>\n",
       "      <td>5.774369</td>\n",
       "      <td>2.916671</td>\n",
       "      <td>1.905759</td>\n",
       "      <td>1.502321</td>\n",
       "      <td>1.183856</td>\n",
       "      <td>1.011999</td>\n",
       "    </tr>\n",
       "    <tr>\n",
       "      <th>min</th>\n",
       "      <td>1.000000</td>\n",
       "      <td>1.000000</td>\n",
       "      <td>1.000000</td>\n",
       "      <td>1.000000</td>\n",
       "      <td>1.000000</td>\n",
       "      <td>1.000000</td>\n",
       "    </tr>\n",
       "    <tr>\n",
       "      <th>25%</th>\n",
       "      <td>6.000000</td>\n",
       "      <td>3.000000</td>\n",
       "      <td>2.000000</td>\n",
       "      <td>2.000000</td>\n",
       "      <td>1.000000</td>\n",
       "      <td>1.000000</td>\n",
       "    </tr>\n",
       "    <tr>\n",
       "      <th>50%</th>\n",
       "      <td>11.000000</td>\n",
       "      <td>6.000000</td>\n",
       "      <td>4.000000</td>\n",
       "      <td>3.000000</td>\n",
       "      <td>3.000000</td>\n",
       "      <td>2.000000</td>\n",
       "    </tr>\n",
       "    <tr>\n",
       "      <th>75%</th>\n",
       "      <td>16.000000</td>\n",
       "      <td>8.000000</td>\n",
       "      <td>5.000000</td>\n",
       "      <td>5.000000</td>\n",
       "      <td>4.000000</td>\n",
       "      <td>3.000000</td>\n",
       "    </tr>\n",
       "    <tr>\n",
       "      <th>max</th>\n",
       "      <td>20.000000</td>\n",
       "      <td>10.000000</td>\n",
       "      <td>7.000000</td>\n",
       "      <td>5.000000</td>\n",
       "      <td>4.000000</td>\n",
       "      <td>4.000000</td>\n",
       "    </tr>\n",
       "  </tbody>\n",
       "</table>\n",
       "</div>"
      ],
      "text/plain": [
       "       pasang_dadu_1  pasang_dadu_2  pasang_dadu_3  pasang_dadu_4  \\\n",
       "count     100.000000     100.000000     100.000000     100.000000   \n",
       "mean       11.010000       5.910000       3.620000       3.160000   \n",
       "std         5.774369       2.916671       1.905759       1.502321   \n",
       "min         1.000000       1.000000       1.000000       1.000000   \n",
       "25%         6.000000       3.000000       2.000000       2.000000   \n",
       "50%        11.000000       6.000000       4.000000       3.000000   \n",
       "75%        16.000000       8.000000       5.000000       5.000000   \n",
       "max        20.000000      10.000000       7.000000       5.000000   \n",
       "\n",
       "       pasang_dadu_5  pasang_dadu_6  \n",
       "count     100.000000     100.000000  \n",
       "mean        2.550000       2.190000  \n",
       "std         1.183856       1.011999  \n",
       "min         1.000000       1.000000  \n",
       "25%         1.000000       1.000000  \n",
       "50%         3.000000       2.000000  \n",
       "75%         4.000000       3.000000  \n",
       "max         4.000000       4.000000  "
      ]
     },
     "execution_count": 122,
     "metadata": {},
     "output_type": "execute_result"
    }
   ],
   "source": [
    "df = []\n",
    "for i in range(N_lempar):\n",
    "    row = {}\n",
    "    for j in range(1,7):\n",
    "        rand = random.random()\n",
    "        row[f'pasang_dadu_{j}'] = rand*20 //j + 1\n",
    "    df.append(row)\n",
    "\n",
    "pasang_dadu = pd.DataFrame(df)\n",
    "pasang_dadu.describe()"
   ]
  },
  {
   "cell_type": "markdown",
   "metadata": {
    "collapsed": false
   },
   "source": [
    "# Simulasi Antrean Single Server"
   ]
  },
  {
   "cell_type": "code",
   "execution_count": 1,
   "metadata": {
    "ExecuteTime": {
     "start_time": "2023-10-21T06:02:24.808358700Z"
    },
    "collapsed": false,
    "is_executing": true
   },
   "outputs": [
    {
     "name": "stdout",
     "output_type": "stream",
     "text": [
      "\n",
      "        server name    : Server1\n",
      "        current status : 1 (busy)\n",
      "        utilization    : 88.0% \n",
      "                         (idle time = 12, busy time = 88)\n",
      "        current customer: Customer 84 \n",
      "        current queue   : []\n",
      "        customer served : [Customer 1, Customer 4, Customer 5, Customer 6, Customer 10, Customer 15, Customer 21, Customer 24, Customer 25, Customer 26, Customer 30, Customer 31, Customer 34, Customer 37, Customer 40, Customer 42, Customer 45, Customer 48, Customer 52, Customer 53, Customer 58, Customer 63, Customer 68, Customer 72, Customer 74, Customer 77, Customer 82]\n",
      "        \n",
      "\n",
      "        server name    : Server2\n",
      "        current status : 0 (idle)\n",
      "        utilization    : 80.0% \n",
      "                         (idle time = 20, busy time = 80)\n",
      "        current customer: null \n",
      "        current queue   : []\n",
      "        customer served : [Customer 2, Customer 7, Customer 11, Customer 13, Customer 16, Customer 19, Customer 22, Customer 27, Customer 32, Customer 38, Customer 41, Customer 43, Customer 46, Customer 50, Customer 55, Customer 59, Customer 64, Customer 65, Customer 66, Customer 71, Customer 73, Customer 78, Customer 80, Customer 85, Customer 88]\n",
      "        \n",
      "\n",
      "        server name    : Server3\n",
      "        current status : 0 (idle)\n",
      "        utilization    : 62.0% \n",
      "                         (idle time = 38, busy time = 62)\n",
      "        current customer: null \n",
      "        current queue   : []\n",
      "        customer served : [Customer 3, Customer 8, Customer 12, Customer 17, Customer 23, Customer 28, Customer 35, Customer 39, Customer 44, Customer 49, Customer 54, Customer 56, Customer 60, Customer 62, Customer 69, Customer 75, Customer 79, Customer 83, Customer 86]\n",
      "        \n",
      "\n",
      "        server name    : Server4\n",
      "        current status : 0 (idle)\n",
      "        utilization    : 56.00000000000001% \n",
      "                         (idle time = 44, busy time = 56)\n",
      "        current customer: null \n",
      "        current queue   : []\n",
      "        customer served : [Customer 9, Customer 14, Customer 18, Customer 20, Customer 29, Customer 33, Customer 36, Customer 47, Customer 51, Customer 57, Customer 61, Customer 67, Customer 70, Customer 76, Customer 81, Customer 87]\n",
      "        \n"
     ]
    }
   ],
   "source": [
    "from simulasi_antrean import SimulationModel, Server\n",
    "\n",
    "distribution1 = {1: 0.1, 2: 0.2, 3: 0.3, 4: 0.25, 5: 0.1, 6: 0.05}\n",
    "# distribution2 = {7: 0.1, 3: 0.2, 9: 0.3, 8: 0.25, 6: 0.1, 2: 0.05}\n",
    "distribution3 = {3: 0.2, 2: 0.2, 1: 0.05, 0: 0.55}\n",
    "\n",
    "simulator = SimulationModel([\n",
    "    Server(distribution1, name=\"Server1\"),\n",
    "    Server(distribution1, name=\"Server2\"),\n",
    "    Server(distribution1, name=\"Server3\"),\n",
    "    Server(distribution1, name=\"Server4\"),\n",
    "],\n",
    "    intrArrivalDist=distribution3,\n",
    "    delay=0\n",
    "            )\n",
    "simulator.resetSimulation(newMaxMin=100)\n",
    "simulator.run(verbose=False)\n",
    "# simulator.continueRun(add_minute=5, verbose=True)\n",
    "\n",
    "for server in simulator.servers:\n",
    "    print(server.info)"
   ]
  },
  {
   "cell_type": "code",
   "execution_count": 13,
   "metadata": {
    "ExecuteTime": {
     "end_time": "2023-10-21T06:01:00.655720300Z",
     "start_time": "2023-10-21T06:01:00.459276900Z"
    },
    "collapsed": false
   },
   "outputs": [
    {
     "data": {
      "image/png": "[encoded data removed]",
      "text/plain": [
       "<Figure size 640x480 with 1 Axes>"
      ]
     },
     "metadata": {},
     "output_type": "display_data"
    }
   ],
   "source": [
    "import matplotlib.pyplot as plt\n",
    "import pandas as pd\n",
    "import numpy as np\n",
    "\n",
    "servered_customers = []\n",
    "for server in simulator.servers:\n",
    "    servered_customers.extend(server.serveredCustomer)\n",
    "\n",
    "customers_data = {\"name\":[],\n",
    "                  \"arrival_time\":[],\n",
    "                  \"server\":[],\n",
    "                  \"queue_time\":[],\n",
    "                  \"service_time\":[],\n",
    "                  \"service_begin\":[],\n",
    "                  }\n",
    "for customer in servered_customers:\n",
    "    customers_data[\"name\"].append(customer.name)\n",
    "    customers_data[\"server\"].append(customer.server.name)\n",
    "    customers_data[\"arrival_time\"].append(customer.arrivalTime)\n",
    "    customers_data[\"queue_time\"].append(customer.queueTime)\n",
    "    customers_data[\"service_time\"].append(customer.serviceTime)\n",
    "    customers_data[\"service_begin\"].append(customer.serviceBegin)\n",
    "\n",
    "customers_df = pd.DataFrame(customers_data)\n",
    "customers_df[\"total_time_spend\"] = customers_df.service_time + customers_df.queue_time\n",
    "\n",
    "# menampilkan histogram\n",
    "customers_df.queue_time.hist()\n",
    "plt.title(\"distribusi lamanya customer mengantri\")\n",
    "plt.xlabel(\"lama mengantri (menit)\")\n",
    "plt.ylabel(\"Jumlah\")\n",
    "plt.show()"
   ]
  },
  {
   "cell_type": "code",
   "execution_count": 3,
   "metadata": {
    "ExecuteTime": {
     "end_time": "2023-10-21T06:00:18.713165100Z",
     "start_time": "2023-10-21T06:00:18.695792900Z"
    },
    "collapsed": false
   },
   "outputs": [
    {
     "name": "stdout",
     "output_type": "stream",
     "text": [
      "\n",
      "persentase customer ngantri : 21.839080459770116 % \n",
      "rata rata service time pada simulasi : 3.2298850574712645 \n",
      "rata rata service time sesuai distribusi : 3.2 \n",
      "rata rata total waktu customer di sistem : 3.5172413793103448 \n",
      "rata rata waktu ngantri : 0.28735632183908044 \n",
      "rata rata waktu ngantri (bagi yg ngantri) : 1.3157894736842106\n"
     ]
    }
   ],
   "source": [
    "from simulasi_antrean import  avg_distribution\n",
    "\n",
    "print(\n",
    "    \"\\npersentase customer ngantri :\", sum(customers_df.queue_time > 0) / len(customers_df) * 100,\"%\",\n",
    "    \"\\nrata rata service time pada simulasi :\",customers_df.service_time.mean(),\n",
    "    \"\\nrata rata service time sesuai distribusi :\",avg_distribution(distribution1),\n",
    "    \"\\nrata rata total waktu customer di sistem :\",customers_df['total_time_spend'].mean(),\n",
    "    \"\\nrata rata waktu ngantri :\",customers_df.queue_time.mean(),\n",
    "    \"\\nrata rata waktu ngantri (bagi yg ngantri) :\", customers_df.loc[customers_df.queue_time > 0, \"queue_time\"].mean(),\n",
    ")"
   ]
  },
  {
   "cell_type": "code",
   "execution_count": 4,
   "metadata": {
    "ExecuteTime": {
     "end_time": "2023-10-21T05:58:48.482905900Z",
     "start_time": "2023-10-21T05:58:48.468067400Z"
    },
    "collapsed": false
   },
   "outputs": [
    {
     "data": {
      "text/plain": [
       "(1.1235955056179776, 1.05)"
      ]
     },
     "execution_count": 4,
     "metadata": {},
     "output_type": "execute_result"
    }
   ],
   "source": [
    "np.mean(simulator.interarivals), avg_distribution(distribution3)"
   ]
  },
  {
   "cell_type": "code",
   "execution_count": 16,
   "metadata": {
    "ExecuteTime": {
     "end_time": "2023-10-21T06:01:05.894287600Z",
     "start_time": "2023-10-21T06:01:05.882123400Z"
    },
    "collapsed": false
   },
   "outputs": [
    {
     "data": {
      "text/html": [
       "<div>\n",
       "<style scoped>\n",
       "    .dataframe tbody tr th:only-of-type {\n",
       "        vertical-align: middle;\n",
       "    }\n",
       "\n",
       "    .dataframe tbody tr th {\n",
       "        vertical-align: top;\n",
       "    }\n",
       "\n",
       "    .dataframe thead th {\n",
       "        text-align: right;\n",
       "    }\n",
       "</style>\n",
       "<table border=\"1\" class=\"dataframe\">\n",
       "  <thead>\n",
       "    <tr style=\"text-align: right;\">\n",
       "      <th></th>\n",
       "      <th>name</th>\n",
       "      <th>arrival_time</th>\n",
       "      <th>server</th>\n",
       "      <th>queue_time</th>\n",
       "      <th>service_time</th>\n",
       "      <th>service_begin</th>\n",
       "      <th>total_time_spend</th>\n",
       "    </tr>\n",
       "  </thead>\n",
       "  <tbody>\n",
       "    <tr>\n",
       "      <th>0</th>\n",
       "      <td>Customer 1</td>\n",
       "      <td>1</td>\n",
       "      <td>Server1</td>\n",
       "      <td>0</td>\n",
       "      <td>3</td>\n",
       "      <td>1</td>\n",
       "      <td>3</td>\n",
       "    </tr>\n",
       "    <tr>\n",
       "      <th>1</th>\n",
       "      <td>Customer 2</td>\n",
       "      <td>3</td>\n",
       "      <td>Server2</td>\n",
       "      <td>0</td>\n",
       "      <td>2</td>\n",
       "      <td>3</td>\n",
       "      <td>2</td>\n",
       "    </tr>\n",
       "    <tr>\n",
       "      <th>2</th>\n",
       "      <td>Customer 3</td>\n",
       "      <td>3</td>\n",
       "      <td>Server3</td>\n",
       "      <td>0</td>\n",
       "      <td>3</td>\n",
       "      <td>3</td>\n",
       "      <td>3</td>\n",
       "    </tr>\n",
       "    <tr>\n",
       "      <th>3</th>\n",
       "      <td>Customer 4</td>\n",
       "      <td>5</td>\n",
       "      <td>Server1</td>\n",
       "      <td>0</td>\n",
       "      <td>1</td>\n",
       "      <td>5</td>\n",
       "      <td>1</td>\n",
       "    </tr>\n",
       "    <tr>\n",
       "      <th>4</th>\n",
       "      <td>Customer 5</td>\n",
       "      <td>6</td>\n",
       "      <td>Server1</td>\n",
       "      <td>0</td>\n",
       "      <td>2</td>\n",
       "      <td>6</td>\n",
       "      <td>2</td>\n",
       "    </tr>\n",
       "    <tr>\n",
       "      <th>5</th>\n",
       "      <td>Customer 6</td>\n",
       "      <td>9</td>\n",
       "      <td>Server1</td>\n",
       "      <td>0</td>\n",
       "      <td>3</td>\n",
       "      <td>9</td>\n",
       "      <td>3</td>\n",
       "    </tr>\n",
       "    <tr>\n",
       "      <th>6</th>\n",
       "      <td>Customer 10</td>\n",
       "      <td>11</td>\n",
       "      <td>Server1</td>\n",
       "      <td>0</td>\n",
       "      <td>5</td>\n",
       "      <td>12</td>\n",
       "      <td>5</td>\n",
       "    </tr>\n",
       "    <tr>\n",
       "      <th>7</th>\n",
       "      <td>Customer 11</td>\n",
       "      <td>11</td>\n",
       "      <td>Server2</td>\n",
       "      <td>1</td>\n",
       "      <td>2</td>\n",
       "      <td>13</td>\n",
       "      <td>3</td>\n",
       "    </tr>\n",
       "    <tr>\n",
       "      <th>8</th>\n",
       "      <td>Customer 7</td>\n",
       "      <td>11</td>\n",
       "      <td>Server2</td>\n",
       "      <td>0</td>\n",
       "      <td>2</td>\n",
       "      <td>11</td>\n",
       "      <td>2</td>\n",
       "    </tr>\n",
       "    <tr>\n",
       "      <th>9</th>\n",
       "      <td>Customer 8</td>\n",
       "      <td>11</td>\n",
       "      <td>Server3</td>\n",
       "      <td>0</td>\n",
       "      <td>3</td>\n",
       "      <td>11</td>\n",
       "      <td>3</td>\n",
       "    </tr>\n",
       "    <tr>\n",
       "      <th>10</th>\n",
       "      <td>Customer 9</td>\n",
       "      <td>11</td>\n",
       "      <td>Server4</td>\n",
       "      <td>0</td>\n",
       "      <td>4</td>\n",
       "      <td>11</td>\n",
       "      <td>4</td>\n",
       "    </tr>\n",
       "    <tr>\n",
       "      <th>11</th>\n",
       "      <td>Customer 12</td>\n",
       "      <td>13</td>\n",
       "      <td>Server3</td>\n",
       "      <td>0</td>\n",
       "      <td>3</td>\n",
       "      <td>14</td>\n",
       "      <td>3</td>\n",
       "    </tr>\n",
       "    <tr>\n",
       "      <th>12</th>\n",
       "      <td>Customer 13</td>\n",
       "      <td>13</td>\n",
       "      <td>Server2</td>\n",
       "      <td>1</td>\n",
       "      <td>3</td>\n",
       "      <td>15</td>\n",
       "      <td>4</td>\n",
       "    </tr>\n",
       "    <tr>\n",
       "      <th>13</th>\n",
       "      <td>Customer 14</td>\n",
       "      <td>16</td>\n",
       "      <td>Server4</td>\n",
       "      <td>0</td>\n",
       "      <td>3</td>\n",
       "      <td>16</td>\n",
       "      <td>3</td>\n",
       "    </tr>\n",
       "    <tr>\n",
       "      <th>14</th>\n",
       "      <td>Customer 15</td>\n",
       "      <td>19</td>\n",
       "      <td>Server1</td>\n",
       "      <td>0</td>\n",
       "      <td>4</td>\n",
       "      <td>19</td>\n",
       "      <td>4</td>\n",
       "    </tr>\n",
       "  </tbody>\n",
       "</table>\n",
       "</div>"
      ],
      "text/plain": [
       "           name  arrival_time   server  queue_time  service_time  \\\n",
       "0    Customer 1             1  Server1           0             3   \n",
       "1    Customer 2             3  Server2           0             2   \n",
       "2    Customer 3             3  Server3           0             3   \n",
       "3    Customer 4             5  Server1           0             1   \n",
       "4    Customer 5             6  Server1           0             2   \n",
       "5    Customer 6             9  Server1           0             3   \n",
       "6   Customer 10            11  Server1           0             5   \n",
       "7   Customer 11            11  Server2           1             2   \n",
       "8    Customer 7            11  Server2           0             2   \n",
       "9    Customer 8            11  Server3           0             3   \n",
       "10   Customer 9            11  Server4           0             4   \n",
       "11  Customer 12            13  Server3           0             3   \n",
       "12  Customer 13            13  Server2           1             3   \n",
       "13  Customer 14            16  Server4           0             3   \n",
       "14  Customer 15            19  Server1           0             4   \n",
       "\n",
       "    service_begin  total_time_spend  \n",
       "0               1                 3  \n",
       "1               3                 2  \n",
       "2               3                 3  \n",
       "3               5                 1  \n",
       "4               6                 2  \n",
       "5               9                 3  \n",
       "6              12                 5  \n",
       "7              13                 3  \n",
       "8              11                 2  \n",
       "9              11                 3  \n",
       "10             11                 4  \n",
       "11             14                 3  \n",
       "12             15                 4  \n",
       "13             16                 3  \n",
       "14             19                 4  "
      ]
     },
     "execution_count": 16,
     "metadata": {},
     "output_type": "execute_result"
    }
   ],
   "source": [
    "tabel = customers_df.sort_values(by=['arrival_time', 'name']).reset_index(drop=True)\n",
    "tabel.head(15)"
   ]
  }
 ],
 "metadata": {
  "kernelspec": {
   "display_name": "Python 3",
   "language": "python",
   "name": "python3"
  },
  "language_info": {
   "codemirror_mode": {
    "name": "ipython",
    "version": 3
   },
   "file_extension": ".py",
   "mimetype": "text/x-python",
   "name": "python",
   "nbconvert_exporter": "python",
   "pygments_lexer": "ipython3",
   "version": "3.11.6"
  }
 },
 "nbformat": 4,
 "nbformat_minor": 0
}
